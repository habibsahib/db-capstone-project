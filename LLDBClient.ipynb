{
 "cells": [
  {
   "cell_type": "code",
   "execution_count": 1,
   "id": "88e4e326-a81f-413a-bf3c-61c6a792c6b8",
   "metadata": {},
   "outputs": [
    {
     "name": "stdout",
     "output_type": "stream",
     "text": [
      "\u001b[1;31merror\u001b[0m: \u001b[1mexternally-managed-environment\u001b[0m\n",
      "\n",
      "\u001b[31m×\u001b[0m This environment is externally managed\n",
      "\u001b[31m╰─>\u001b[0m To install Python packages system-wide, try 'pacman -S\n",
      "\u001b[31m   \u001b[0m python-xyz', where xyz is the package you are trying to\n",
      "\u001b[31m   \u001b[0m install.\n",
      "\u001b[31m   \u001b[0m \n",
      "\u001b[31m   \u001b[0m If you wish to install a non-Arch-packaged Python package,\n",
      "\u001b[31m   \u001b[0m create a virtual environment using 'python -m venv path/to/venv'.\n",
      "\u001b[31m   \u001b[0m Then use path/to/venv/bin/python and path/to/venv/bin/pip.\n",
      "\u001b[31m   \u001b[0m \n",
      "\u001b[31m   \u001b[0m If you wish to install a non-Arch packaged Python application,\n",
      "\u001b[31m   \u001b[0m it may be easiest to use 'pipx install xyz', which will manage a\n",
      "\u001b[31m   \u001b[0m virtual environment for you. Make sure you have python-pipx\n",
      "\u001b[31m   \u001b[0m installed via pacman.\n",
      "\n",
      "\u001b[1;35mnote\u001b[0m: If you believe this is a mistake, please contact your Python installation or OS distribution provider. You can override this, at the risk of breaking your Python installation or OS, by passing --break-system-packages.\n",
      "\u001b[1;36mhint\u001b[0m: See PEP 668 for the detailed specification.\n"
     ]
    }
   ],
   "source": [
    "!pip install mysql-connector-python"
   ]
  },
  {
   "cell_type": "code",
   "execution_count": 1,
   "id": "11c2346b-d312-49c9-9016-36d7c0bb1bf1",
   "metadata": {},
   "outputs": [],
   "source": [
    "import mysql.connector as connector"
   ]
  },
  {
   "cell_type": "code",
   "execution_count": 2,
   "id": "ba49a0a7-851e-423f-b804-b63d90d423bb",
   "metadata": {},
   "outputs": [],
   "source": [
    "connection=connector.connect(user = \"metadbuser\", password=\"metadbuser\", db=\"LittleLemonDB\")"
   ]
  },
  {
   "cell_type": "code",
   "execution_count": 3,
   "id": "f961984f-8a7b-4fde-9517-c3013d7f401f",
   "metadata": {},
   "outputs": [
    {
     "name": "stdout",
     "output_type": "stream",
     "text": [
      "[('Bookings',), ('Customers',), ('Menu',), ('MenuItems',), ('OrderDelivery',), ('Orders',), ('OrdersView',), ('Orders_Details',), ('Staff',)]\n"
     ]
    }
   ],
   "source": [
    "cursor = connection.cursor()\n",
    "show_tables_q = \"show tables;\"\n",
    "cursor.execute(show_tables_q)\n",
    "result_tables=cursor.fetchall()\n",
    "print(result_tables)"
   ]
  },
  {
   "cell_type": "code",
   "execution_count": 5,
   "id": "4d1f1fc2-f0ff-4f77-a393-8c273841771d",
   "metadata": {},
   "outputs": [
    {
     "name": "stdout",
     "output_type": "stream",
     "text": [
      "['BookingID', 'Name', 'Contact', 'TotalCost']\n",
      "[(1, 'Abina Rosa', '05639854170', Decimal('120')), (3, 'Sohni Glora', '0565721498', Decimal('90')), (4, 'Chulbul Panday', '0566985471', Decimal('290')), (2, 'Gamba Soka', '0569321458', Decimal('260'))]\n"
     ]
    }
   ],
   "source": [
    "#Task 3: Customers details with total cost more than 60\n",
    "q2 = \"\"\"select b.BookingID, c.Name, c.Contact, o.TotalCost from Bookings as b\n",
    "inner join Customers as c on b.CustomerID = c.CustomerID\n",
    "inner join Orders as o on b.BookingID=o.BookingID\n",
    "where TotalCost >60;\"\"\"\n",
    "#executing query\n",
    "cursor.execute(q2)\n",
    "cols = [i[0] for i in cursor.description]\n",
    "q2_results = cursor.fetchall()\n",
    "print(cols)\n",
    "print(q2_results)"
   ]
  },
  {
   "cell_type": "code",
   "execution_count": null,
   "id": "6efa1776-9387-4372-b417-35c1005bdb0c",
   "metadata": {},
   "outputs": [],
   "source": []
  }
 ],
 "metadata": {
  "kernelspec": {
   "display_name": "Python 3 (ipykernel)",
   "language": "python",
   "name": "python3"
  },
  "language_info": {
   "codemirror_mode": {
    "name": "ipython",
    "version": 3
   },
   "file_extension": ".py",
   "mimetype": "text/x-python",
   "name": "python",
   "nbconvert_exporter": "python",
   "pygments_lexer": "ipython3",
   "version": "3.11.5"
  }
 },
 "nbformat": 4,
 "nbformat_minor": 5
}
